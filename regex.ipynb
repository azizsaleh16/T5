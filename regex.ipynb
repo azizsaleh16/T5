{
  "cells": [
    {
      "cell_type": "markdown",
      "metadata": {
        "id": "ypZv07SwWqru"
      },
      "source": [
        "# Exercise: Regular Expressions"
      ]
    },
    {
      "cell_type": "code",
      "execution_count": 1,
      "metadata": {
        "id": "qcuqgejQWqrw"
      },
      "outputs": [],
      "source": [
        "import re"
      ]
    },
    {
      "cell_type": "code",
      "execution_count": 2,
      "metadata": {
        "colab": {
          "base_uri": "https://localhost:8080/"
        },
        "id": "1MyJ68LQWqrx",
        "outputId": "f0f4be17-b20b-4efc-d7b4-42fcf2caff66"
      },
      "outputs": [
        {
          "output_type": "stream",
          "name": "stdout",
          "text": [
            "Username: john\n",
            "Mailserver: email\n",
            "Domain: com\n",
            "\n",
            "Username: mary\n",
            "Mailserver: otherplace\n",
            "Domain: net\n",
            "\n",
            "Username: support\n",
            "Mailserver: ourcompany\n",
            "Domain: co\n",
            "\n"
          ]
        }
      ],
      "source": [
        "#1 Question: Match all email addresses (SOLVED)\n",
        "\n",
        "inputs = [\"My email is john@email.com and mary@otherplace.net\",\n",
        "          \"Visit us at support@ourcompany.co.uk for help\",\n",
        "          \"No emails here\"]\n",
        "\n",
        "pattern = r\"(\\w+)@(\\w+)\\.(\\w+)\"\n",
        "\n",
        "matches = []\n",
        "for input in inputs:\n",
        "    matches += re.findall(pattern, input)\n",
        "\n",
        "for m in matches:\n",
        "    username = m[0]\n",
        "    mailserver = m[1]\n",
        "    domain = m[2]\n",
        "    print(f\"Username: {username}\")\n",
        "    print(f\"Mailserver: {mailserver}\")\n",
        "    print(f\"Domain: {domain}\")\n",
        "    print('')"
      ]
    },
    {
      "cell_type": "code",
      "source": [
        "#2 Question: Extract domain from email\n",
        "\n",
        "inputs = [\"john@email.com\",\n",
        "          \"mary+newsletter@gmail.com\",\n",
        "          \"support@ourcompany.co.uk\"]\n",
        "\n",
        "# your code here ...:\n",
        "pattern = r\"(\\w+)@(\\w+)\\.(\\w+)\"\n",
        "\n",
        "matches = []\n",
        "for input in inputs:\n",
        "    matches += re.findall(pattern, input)\n",
        "\n",
        "for m in matches:\n",
        "    domain = m[2]\n",
        "    print(f\"Domain: {domain}\")"
      ],
      "metadata": {
        "colab": {
          "base_uri": "https://localhost:8080/"
        },
        "id": "gqRuaWM7b2Aa",
        "outputId": "fdfee19b-644b-4dcf-dd6c-5a8f642a8d9a"
      },
      "execution_count": 44,
      "outputs": [
        {
          "output_type": "stream",
          "name": "stdout",
          "text": [
            "Domain: com\n",
            "Domain: com\n",
            "Domain: co\n"
          ]
        }
      ]
    },
    {
      "cell_type": "code",
      "execution_count": 42,
      "metadata": {
        "colab": {
          "base_uri": "https://localhost:8080/"
        },
        "id": "2A2W8NM6Wqry",
        "outputId": "68c4f03f-9f67-4ac7-e434-e639d98b7bac"
      },
      "outputs": [
        {
          "output_type": "stream",
          "name": "stdout",
          "text": [
            "The domain is: com\n",
            "The domain is: com\n",
            "The domain is: co\n"
          ]
        }
      ],
      "source": [
        "#2 Question: Extract domain from email\n",
        "\n",
        "inputs = [\"john@email.com\",\n",
        "          \"mary+newsletter@gmail.com\",\n",
        "          \"support@ourcompany.co.uk\"]\n",
        "\n",
        "# your code here ...:\n",
        "for i in enumerate(inputs):\n",
        "  x = re.split('@',inputs[i[0]])\n",
        "  y = re.split('\\.',x[1])\n",
        "  print(f\"The domain is: {y[1]}\")"
      ]
    },
    {
      "cell_type": "code",
      "execution_count": 37,
      "metadata": {
        "colab": {
          "base_uri": "https://localhost:8080/"
        },
        "id": "IqxWheV4Wqrz",
        "outputId": "57870d46-a85e-4ed1-926c-d13b3d149e7f"
      },
      "outputs": [
        {
          "output_type": "stream",
          "name": "stdout",
          "text": [
            "'555-123-4567' is a valid phone number.\n",
            "'1 (234) 567-8910' is a valid phone number.\n",
            "'notaphonenumber' is not a valid phone number.\n"
          ]
        }
      ],
      "source": [
        "#3 Question: Validate phone number\n",
        "\n",
        "inputs = [\"555-123-4567\",\n",
        "          \"1 (234) 567-8910\",\n",
        "          \"notaphonenumber\"]\n",
        "\n",
        "# your code here ...:\n",
        "pattern = re.compile(r'^(1\\s)?(\\(\\d{3}\\)|\\d{3})')\n",
        "\n",
        "for number in inputs:\n",
        "    if pattern.match(number):\n",
        "        print(f\"'{number}' is a valid phone number.\")\n",
        "    else:\n",
        "        print(f\"'{number}' is not a valid phone number.\")\n"
      ]
    },
    {
      "cell_type": "code",
      "execution_count": 40,
      "metadata": {
        "colab": {
          "base_uri": "https://localhost:8080/"
        },
        "id": "GOgiG9OEWqrz",
        "outputId": "afd22518-02e9-4d03-c4f1-7179ad127edd"
      },
      "outputs": [
        {
          "output_type": "stream",
          "name": "stdout",
          "text": [
            "Area code: (555)\n",
            "Area code: (234)\n",
            "Area code: 555\n"
          ]
        }
      ],
      "source": [
        "#4 Question: Extract area code\n",
        "\n",
        "inputs = [\"(555) 123-4567\",\n",
        "          \"1 (234) 567-8910\",\n",
        "          \"5551234567\"]\n",
        "\n",
        "# your code here ...:\n",
        "pattern = r'^(1\\s)?(\\(\\d{3}\\)|\\d{3})'\n",
        "\n",
        "matches = []\n",
        "for input in inputs:\n",
        "    matches += re.findall(pattern, input)\n",
        "\n",
        "for m in matches:\n",
        "    area_code = m[1]\n",
        "    print(f\"Area code: {area_code}\")"
      ]
    },
    {
      "cell_type": "code",
      "execution_count": 60,
      "metadata": {
        "colab": {
          "base_uri": "https://localhost:8080/"
        },
        "id": "e2QMRUY0Wqrz",
        "outputId": "5b96f5a7-5a6c-4300-e2d8-32635fb2885f"
      },
      "outputs": [
        {
          "output_type": "stream",
          "name": "stdout",
          "text": [
            "Found URL with host: www.example.com\n",
            "Found URL with host: example.com\n",
            "No URL\n"
          ]
        }
      ],
      "source": [
        "#5 Question: Match URLs and extract host\n",
        "\n",
        "inputs = [\"Visit https://www.example.com for more info\",\n",
        "          \"Our website is example.com\",\n",
        "          \"No URLs here\"]\n",
        "\n",
        "# your code here ...:\n",
        "pattern = re.compile(r'https?://(\\w+\\.\\w+\\.\\w+)|(\\w+\\.\\w+)')\n",
        "\n",
        "for text in inputs:\n",
        "    match = pattern.search(text)\n",
        "    if match:\n",
        "        host = match.group(1) or match.group(2)\n",
        "        print(f\"Found URL with host: {host}\")\n",
        "    else:\n",
        "        print(f\"No URL\")"
      ]
    },
    {
      "cell_type": "code",
      "execution_count": 55,
      "metadata": {
        "colab": {
          "base_uri": "https://localhost:8080/"
        },
        "id": "ZqGhi9kGWqrz",
        "outputId": "eeb9645b-69b2-45be-a2da-ed90c8b5afb8"
      },
      "outputs": [
        {
          "output_type": "stream",
          "name": "stdout",
          "text": [
            "Helloworld\n",
            "MainSt\n",
            "greetingsmore\n"
          ]
        }
      ],
      "source": [
        "#6 Question: Remove non-alphabetic characters\n",
        "\n",
        "inputs = [\"Hello world!\",\n",
        "          \"123 Main St.\",\n",
        "          \"greetings&more\"]\n",
        "\n",
        "# your code here ...:\n",
        "pattern = re.compile(r'[^a-zA-Z]')\n",
        "\n",
        "for text in inputs:\n",
        "    cleaned_text = pattern.sub('', text)\n",
        "    print(cleaned_text)"
      ]
    },
    {
      "cell_type": "code",
      "execution_count": 56,
      "metadata": {
        "colab": {
          "base_uri": "https://localhost:8080/"
        },
        "id": "biztyPKmWqrz",
        "outputId": "ce1b0edd-827b-46fa-cc96-160d43e46087"
      },
      "outputs": [
        {
          "output_type": "stream",
          "name": "stdout",
          "text": [
            "station\n",
            "tion\n",
            "motion, activation, vacation\n"
          ]
        }
      ],
      "source": [
        "#7 Question: Find words containing \"tion\"\n",
        "\n",
        "inputs = [\"This is a test sentence with the word station in it.\",\n",
        "          \"No words containing tion here\",\n",
        "          \"motion activation vacation\"]\n",
        "\n",
        "# your code here ...:\n",
        "pattern = re.compile(r'\\b\\w*tion\\w*\\b')\n",
        "\n",
        "for text in inputs:\n",
        "    matches = pattern.findall(text)\n",
        "    if matches:\n",
        "        print(', '.join(matches))\n",
        "    else:\n",
        "        print(\"No words containing 'tion'\")"
      ]
    },
    {
      "cell_type": "code",
      "execution_count": 59,
      "metadata": {
        "colab": {
          "base_uri": "https://localhost:8080/"
        },
        "id": "Thd_o7rAWqr0",
        "outputId": "03d7419e-4649-4d11-ebbd-17d1c401a317"
      },
      "outputs": [
        {
          "output_type": "stream",
          "name": "stdout",
          "text": [
            "goodbye world\n",
            "goodbye there\n",
            "no match\n"
          ]
        }
      ],
      "source": [
        "#8 Question: Replace all occurrences of \"hello\" with \"goodbye\"\n",
        "\n",
        "inputs = [\"hello world\",\n",
        "          \"hello there\",\n",
        "          \"no match\"]\n",
        "\n",
        " # your code here ...:\n",
        "for i, text in enumerate(inputs):\n",
        "    inputs[i] = text.replace(\"hello\", \"goodbye\")\n",
        "    print(inputs[i])"
      ]
    },
    {
      "cell_type": "code",
      "execution_count": 63,
      "metadata": {
        "colab": {
          "base_uri": "https://localhost:8080/"
        },
        "id": "L-mDofQ2Wqr0",
        "outputId": "eb142c5f-5462-4ed1-e1f9-eed31c45a4bb"
      },
      "outputs": [
        {
          "output_type": "stream",
          "name": "stdout",
          "text": [
            "2023-01-15\n",
            "2023-02-01T13:00:00Z\n",
            "No date\n"
          ]
        }
      ],
      "source": [
        "#9 Question: Extract date strings in ISO8601 format\n",
        "\n",
        "inputs = [\"Log from 2023-01-15\",\n",
        "          \"Meeting on 2023-02-01T13:00:00Z\",\n",
        "          \"No dates\"]\n",
        "\n",
        " # your code here ...:\n",
        "pattern = re.compile(r'(\\d{4}-\\d{2}-\\d{2}(T\\d{2}:\\d{2}:\\d{2}Z)?)')\n",
        "\n",
        "for text in inputs:\n",
        "    match = pattern.search(text)\n",
        "    if match:\n",
        "        print(match.group(1))\n",
        "    else:\n",
        "        print(\"No date\")"
      ]
    },
    {
      "cell_type": "code",
      "execution_count": 73,
      "metadata": {
        "colab": {
          "base_uri": "https://localhost:8080/"
        },
        "id": "kHBSsvjYWqr0",
        "outputId": "7c322773-f194-4da7-e2c6-e6e755b15b09"
      },
      "outputs": [
        {
          "output_type": "stream",
          "name": "stdout",
          "text": [
            "'2023-01-15' is a valid date format.\n",
            "'02/01/2023' is not a valid date format.\n",
            "'invalid date' is not a valid date format.\n"
          ]
        }
      ],
      "source": [
        "#10 Question: Validate correctly formatted date\n",
        "\n",
        "inputs = [\"2023-01-15\",\n",
        "          \"02/01/2023\",\n",
        "          \"invalid date\"]\n",
        "\n",
        " # your code here ...:\n",
        "pattern = re.compile(r'^\\d{4}[-/](0[1-9]|1[0-2])[-/](0[1-9]|[12][0-9]|3[01])$')\n",
        "\n",
        "for text in inputs:\n",
        "    if pattern.match(text):\n",
        "        print(f\"'{text}' is a valid date format.\")\n",
        "    else:\n",
        "        print(f\"'{text}' is not a valid date format.\")"
      ]
    },
    {
      "cell_type": "code",
      "execution_count": 71,
      "metadata": {
        "colab": {
          "base_uri": "https://localhost:8080/"
        },
        "id": "OueIhQBnWqr0",
        "outputId": "8c9f1746-346f-4903-e578-bcb599e11286"
      },
      "outputs": [
        {
          "output_type": "stream",
          "name": "stdout",
          "text": [
            "Hello World\n",
            "123-Main_St\n",
            "Hi there\n"
          ]
        }
      ],
      "source": [
        "#11 Question: Remove punctuation except hyphens\n",
        "\n",
        "inputs = [\"Hello! World?\",\n",
        "          \"123-Main_St.\",\n",
        "          \"Hi there.\"]\n",
        "\n",
        " # your code here ...:\n",
        "pattern = re.compile(r'[^\\w\\s\\-]')\n",
        "\n",
        "for i, text in enumerate(inputs):\n",
        "    inputs[i] = pattern.sub('', text)\n",
        "    print(inputs[i])"
      ]
    },
    {
      "cell_type": "code",
      "execution_count": 75,
      "metadata": {
        "colab": {
          "base_uri": "https://localhost:8080/"
        },
        "id": "zgUnwV2uWqr1",
        "outputId": "99552c4d-496e-4875-f926-e2a83fd71c02"
      },
      "outputs": [
        {
          "output_type": "stream",
          "name": "stdout",
          "text": [
            "'Hello world. Hello!' contains 2 occurrences \n",
            "'Hello hello world' contains 2 occurrences \n",
            "'no match' contains 0 occurrences \n"
          ]
        }
      ],
      "source": [
        "#12 Question: Count occurrences of a word\n",
        "\n",
        "inputs = [\"Hello world. Hello!\",\n",
        "          \"Hello hello world\",\n",
        "          \"no match\"]\n",
        "\n",
        "# your code here ...:\n",
        "count = \"hello\"\n",
        "pattern = re.compile(r'\\b{}\\b'.format(count), re.IGNORECASE)\n",
        "\n",
        "for text in inputs:\n",
        "    count = len(pattern.findall(text))\n",
        "    print(f\"'{text}' contains {count} occurrences\")"
      ]
    },
    {
      "cell_type": "code",
      "execution_count": 77,
      "metadata": {
        "colab": {
          "base_uri": "https://localhost:8080/"
        },
        "id": "GoOrnodNWqr1",
        "outputId": "f8ed8ede-78f7-4a47-f4d8-116ba70f4dbe"
      },
      "outputs": [
        {
          "output_type": "stream",
          "name": "stdout",
          "text": [
            "127.0.0.1\n",
            "192.168.1.1\n"
          ]
        }
      ],
      "source": [
        "#13 Question: Extract IP addresses from log\n",
        "\n",
        "inputs = [\"127.0.0.1 - GET /\",\n",
        "          \"User logged in from 192.168.1.1\",\n",
        "          \"No IPs\"]\n",
        "\n",
        "# your code here ...:\n",
        "pattern = re.compile(r'\\b\\d{1,3}\\.\\d{1,3}\\.\\d{1,3}\\.\\d{1,3}\\b')\n",
        "\n",
        "for text in inputs:\n",
        "    matches = pattern.findall(text)\n",
        "    for match in matches:\n",
        "        print(match)"
      ]
    },
    {
      "cell_type": "code",
      "execution_count": 78,
      "metadata": {
        "colab": {
          "base_uri": "https://localhost:8080/"
        },
        "id": "n8bsuzypWqr1",
        "outputId": "aae52e23-001c-46aa-ed7c-80462fb33140"
      },
      "outputs": [
        {
          "output_type": "stream",
          "name": "stdout",
          "text": [
            "Visa: ****-****-****-****\n",
            "My SSN is ***-**-****\n",
            "No numbers\n"
          ]
        }
      ],
      "source": [
        "#14 Question: Redact credit card and SSN numbers\n",
        "\n",
        "inputs = [\"Visa: 4111-1111-1111-1111\",\n",
        "          \"My SSN is 111-11-1111\",\n",
        "          \"No numbers\"]\n",
        "\n",
        "# your code here ...:\n",
        "credit_card_pattern = re.compile(r'\\b\\d{4}-\\d{4}-\\d{4}-\\d{4}\\b')\n",
        "ssn_pattern = re.compile(r'\\b\\d{3}-\\d{2}-\\d{4}\\b')\n",
        "\n",
        "for text in inputs:\n",
        "    redacted_text = credit_card_pattern.sub(\"****-****-****-****\", text)\n",
        "    redacted_text = ssn_pattern.sub(\"***-**-****\", redacted_text)\n",
        "    print(redacted_text)"
      ]
    }
  ],
  "metadata": {
    "kernelspec": {
      "display_name": "ds",
      "language": "python",
      "name": "python3"
    },
    "language_info": {
      "codemirror_mode": {
        "name": "ipython",
        "version": 3
      },
      "file_extension": ".py",
      "mimetype": "text/x-python",
      "name": "python",
      "nbconvert_exporter": "python",
      "pygments_lexer": "ipython3",
      "version": "3.9.18"
    },
    "colab": {
      "provenance": []
    }
  },
  "nbformat": 4,
  "nbformat_minor": 0
}